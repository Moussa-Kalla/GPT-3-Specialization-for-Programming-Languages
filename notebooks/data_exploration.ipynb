{
 "cells": [
  {
   "cell_type": "code",
   "execution_count": null,
   "metadata": {},
   "outputs": [],
   "source": [
    "pip install google-cloud-bigquery"
   ]
  },
  {
   "cell_type": "code",
   "execution_count": 16,
   "metadata": {},
   "outputs": [
    {
     "name": "stdout",
     "output_type": "stream",
     "text": [
      "An error occurred: Your default credentials were not found. To set up Application Default Credentials, see https://cloud.google.com/docs/authentication/external/set-up-adc for more information.\n"
     ]
    }
   ],
   "source": [
    "from google.cloud import bigquery\n",
    "\n",
    "def main():\n",
    "    try:\n",
    "        # Créer un client BigQuery\n",
    "        client = bigquery.Client()\n",
    "\n",
    "        # Langage de programmation et limite d'entrée utilisateur\n",
    "        file_extension = input(\"Enter file extension to filter (e.g., .py, .java): \")\n",
    "        limit = int(input(\"Enter the number of top repositories to display: \"))\n",
    "\n",
    "        # Définir la requête SQL\n",
    "        query = f\"\"\"\n",
    "            SELECT\n",
    "                repo_name,\n",
    "                COUNT(*) as num_files\n",
    "            FROM\n",
    "                `bigquery-public-data.github_repos.files`\n",
    "            WHERE\n",
    "                file_name LIKE '%{file_extension}'  -- Filtrer pour les fichiers avec l'extension spécifiée\n",
    "            GROUP BY\n",
    "                repo_name\n",
    "            ORDER BY\n",
    "                num_files DESC\n",
    "            LIMIT {limit}\n",
    "        \"\"\"\n",
    "\n",
    "        # Exécuter la requête\n",
    "        query_job = client.query(query)\n",
    "\n",
    "        # Récupérer les résultats\n",
    "        results = query_job.result()\n",
    "\n",
    "        # Afficher les résultats\n",
    "        for row in results:\n",
    "            print(f\"Repo: {row.repo_name}, Number of {file_extension} files: {row.num_files}\")\n",
    "\n",
    "    except Exception as e:\n",
    "        print(f\"An error occurred: {e}\")\n",
    "\n",
    "if __name__ == \"__main__\":\n",
    "    main()"
   ]
  }
 ],
 "metadata": {
  "kernelspec": {
   "display_name": "base",
   "language": "python",
   "name": "python3"
  },
  "language_info": {
   "codemirror_mode": {
    "name": "ipython",
    "version": 3
   },
   "file_extension": ".py",
   "mimetype": "text/x-python",
   "name": "python",
   "nbconvert_exporter": "python",
   "pygments_lexer": "ipython3",
   "version": "3.11.5"
  }
 },
 "nbformat": 4,
 "nbformat_minor": 2
}
